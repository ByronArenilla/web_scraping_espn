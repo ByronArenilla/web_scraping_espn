{
 "cells": [
  {
   "cell_type": "code",
   "execution_count": null,
   "id": "841656a6",
   "metadata": {},
   "outputs": [],
   "source": [
    "#Importando las librerías necesarias\n",
    "import time\n",
    "from selenium import webdriver\n",
    "from bs4 import BeautifulSoup\n",
    "#Para el webdriver\n",
    "from selenium.webdriver.chrome.service import Service\n",
    "from chromedriver_py import binary_path  # aquí está la ruta al chromedriver instalado"
   ]
  },
  {
   "cell_type": "code",
   "execution_count": 2,
   "id": "a61a2c61",
   "metadata": {},
   "outputs": [],
   "source": [
    "#Importando las librerías necesarias\n",
    "import time\n",
    "from bs4 import BeautifulSoup\n",
    "import xlsxwriter\n",
    "#Para el chromeDriver\n",
    "from selenium import webdriver\n",
    "from selenium.webdriver.chrome.service import Service\n",
    "from chromedriver_py import binary_path  # aquí está la ruta al chromedriver instalado"
   ]
  },
  {
   "cell_type": "code",
   "execution_count": 3,
   "id": "0d93c426",
   "metadata": {},
   "outputs": [],
   "source": [
    "# url de espn fans\n",
    "urls = [\n",
    "    'https://www.youtube.com/@ESPNFans/videos'\n",
    "]"
   ]
  },
  {
   "cell_type": "code",
   "execution_count": null,
   "id": "3d7af65f",
   "metadata": {},
   "outputs": [],
   "source": [
    "times = 0\n",
    "row = 0\n",
    "\n",
    "#t es para los titulos, v para las vistas y d para la duración de los videos\n",
    "t = v = d = []\n",
    "\n",
    "\n",
    "# Le decimos a Selenium dónde está el chromedriver\n",
    "service = Service(executable_path=binary_path)\n",
    "\n",
    "# Abrimos Chrome controlado por Selenium\n",
    "driver = webdriver.Chrome(service=service)\n",
    "\n",
    "for url in urls:\n",
    "    driver.get(url)\n",
    "    #Hacemos scroll varias veces para cargas más videos\n",
    "    while times < 5:\n",
    "        time.sleep(1)   #el programa espera un segundo antes de hacer el siguiente scroll\n",
    "        driver.execute_script(\n",
    "            \"window.scrollTo(0, document.documentElement.scrollHeight);\") #Ejecuta un script de JavaScript, desplaza la página hasta el final\n",
    "        times += 1\n",
    "    content = driver.page_source.encode('utf-8').strip() #Obtiene todo el html actual de la página (inclyendo los videos que ya se cargaron)\n",
    "    soup = BeautifulSoup(content, 'lxml') #parsea el HTML y busca etiquetas fácilmente"
   ]
  }
 ],
 "metadata": {
  "kernelspec": {
   "display_name": ".venv",
   "language": "python",
   "name": "python3"
  },
  "language_info": {
   "codemirror_mode": {
    "name": "ipython",
    "version": 3
   },
   "file_extension": ".py",
   "mimetype": "text/x-python",
   "name": "python",
   "nbconvert_exporter": "python",
   "pygments_lexer": "ipython3",
   "version": "3.12.8"
  }
 },
 "nbformat": 4,
 "nbformat_minor": 5
}
